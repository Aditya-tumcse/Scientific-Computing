{
 "cells": [
  {
   "cell_type": "markdown",
   "metadata": {},
   "source": [
    "# 2D Multigrid for Darcy Flow \n",
    "\n",
    "<div style=\"text-align: right\"> **[Total : 34 points]** </div>\n",
    "\n",
    "In the exercises, we have explored some steps towards multigrid, mostly for the Poisson equation and simple discretizations.\n",
    "Furthermore, we have only discussed one-dimensional problems.\n",
    "The problem is, of course, that both one-dimensional problems and the Poisson equation are relatively tame from a numerical perspective. You don't see the advantages of multigrid nn these scenarios,\n",
    "\n",
    "In this worksheet, we are going to look at the Darcy flow equation, discretized with a simple finite elements scheme on a hierarchical quad-tree based grid.\n",
    "All concepts are exactly the same as you've seen in the course, but applied in a more difficult setting."
   ]
  },
  {
   "cell_type": "code",
   "execution_count": 1,
   "metadata": {},
   "outputs": [],
   "source": [
    "%matplotlib inline\n",
    "import numpy as np\n",
    "\n",
    "import time\n",
    "import scipy.special as special\n",
    "import scipy.sparse as sp\n",
    "import scipy.sparse.linalg as splinalg\n",
    "\n",
    "import matplotlib.pyplot as plt\n",
    "import matplotlib as mpl\n",
    "import matplotlib.cm as cm\n",
    "from matplotlib import patches\n",
    "\n",
    "import sys\n",
    "sys.path.append(\"../src/\")\n",
    "\n",
    "import quadtree\n",
    "import plotter\n",
    "import fem"
   ]
  },
  {
   "cell_type": "markdown",
   "metadata": {},
   "source": [
    "## The PDE: Darcy Flow\n",
    "\n",
    "We are solving the steady state Darcy flow equation.\n",
    "This equation states the law of fluid flow through a porous medium, e.g. through sand.\n",
    "\n",
    "We have the steady-state fluid pressure $u$ and the spatially varying permeability $K(x,y)$.\n",
    "The PDE is basically a variable-coefficient version of the Poission equation and looks like:\n",
    "\n",
    "$$- \\nabla \\cdot \\left(K(x,y) \\nabla u \\right) = f,\n",
    "\\qquad \\forall \\mathbf{x} \\in \\Omega\n",
    "$$\n",
    "\n",
    "with boundary conditions\n",
    "\n",
    "\\begin{align}\n",
    "u(x,y) &= 0 \\qquad \\forall x \\in \\Gamma_D \\\\\n",
    "-K(x) \\nabla u \\cdot n &= 0 \\qquad \\forall x \\in \\Gamma - \\Gamma_D\n",
    "\\end{align}\n",
    "\n",
    "where $\\Gamma$ is the boundary and $\\Gamma_D$ is the Dirichlet part of the boundary.\n",
    "\n",
    "The Dirichlet boundary is on the top of the domain, all other boundary conditions are set to Neumann.\n",
    "\n",
    "After multiplying by a testfunction $\\phi(x,y)$ and integrating over the domain, we get the weak form:\n",
    "$$\\int_\\Omega \\nabla \\phi(x,y) \\cdot  (K(x,y) \\nabla u(x,y) \\mathrm{d}\\Omega = \\int_\\Omega \\phi(x,y) f(x,y) \\mathrm{d}\\Omega$$\n",
    "The boundary terms are zero due to the choice of boundary conditions.\n",
    "In our case we use a constant right-hand side of $f(x,y) = 1$.\n",
    "\n",
    "\n",
    "# The grid\n",
    "\n",
    "We define a quadtree-based grid, as this allows us to perform hierarchical algorithms with ease.\n",
    "Briefly, we decompose the domain into squares.\n",
    "\n",
    "# Discretization\n",
    "\n",
    "For the discretization we use a simple linear continuous finite elements approach.\n",
    "\n",
    "We choose a nodal linear Lagrange basis, with points $x_1 = -1, x_2 = 1$.\n",
    "This was discussed in the lecture as a piecewise-linear hat basis.\n",
    "The 1D-basis functions are then\n",
    "\n",
    "\\begin{align}\n",
    "l_1(x) &= -\\frac{x-1}{2} \\\\\n",
    "l_2(x) &= +\\frac{x+1}{2} \\\\\n",
    "\\end{align}\n",
    "\n",
    "We combine them by \n",
    "\n",
    "$$L(x) = a_1 l_1(x) + a_2 l_2(x)$$\n",
    "\n",
    "where $a_1, a_2$ are coefficients.\n",
    "In 2D, we have the points $(-1,-1), (-1, 1), (1, -1), (1,1)$ and the solution is expressed as\n",
    "\n",
    "$$u(x,y) \\approx a_1 l_1(x) l_2(y) + a_2 l_1(x) l_2(y) + a_3 l_1(x) l_2(y) + a_4 l_1(x) l_2(y) $$\n",
    "\n",
    "Note that each vertex has a coefficient (the value of $u(x,y)$ at that point) and a corresponding basis function.\n",
    "We use this basis to represent both the test functions $\\phi(x,y)$ and the discrete solution $u(x,y)$.\n",
    "\n",
    "Furthermore, be careful that all basis functions are defined on the reference cell $[-1,1]^2$ but all grid coordinates are defined in terms of global coordinates.\n",
    "\n",
    "Finally, we end up with a stiffness matrix $A_{ij}$ and a right-hand side $f_{i}$, where $i$ and $j$ are indices of vertices.\n",
    "It is important to note here that we remove rows and columns where either $i$ or $j$ corresponds to a vertex where the Dirichlet boundary condition is enfored.\n",
    "We do this to ensure that the remaining system is symmetric.\n",
    "\n",
    "This is all you need to know about the discretization to finish this notebook.\n",
    "If you are interested, you can find details in the file *fem.py*. This might also supply you with hints about details regarding the grid, basis, etc."
   ]
  },
  {
   "cell_type": "code",
   "execution_count": 2,
   "metadata": {
    "scrolled": true
   },
   "outputs": [
    {
     "name": "stdout",
     "output_type": "stream",
     "text": [
      "Level 0 has \t4 vertices\n",
      "Level 1 has \t5 vertices\n",
      "Level 2 has \t16 vertices\n",
      "Level 3 has \t56 vertices\n",
      "Level 4 has \t208 vertices\n"
     ]
    },
    {
     "data": {
      "text/plain": [
       "4"
      ]
     },
     "execution_count": 2,
     "metadata": {},
     "output_type": "execute_result"
    }
   ],
   "source": [
    "# Here we build up the geometry.\n",
    "# The code is included in the notebook because it makes it easier to see\n",
    "# how the vertices get numbered.\n",
    "class Geometry:\n",
    "    def __init__(self, level):\n",
    "        center = np.array([0.5, 0.5])\n",
    "        size = 1.0\n",
    "        self.grid = quadtree.Quadtree(center=center, size=size)\n",
    "        self.grid.split_to_level(level)\n",
    "       \n",
    "        self.vertices_coords_to_idx, \\\n",
    "        self.number_of_vertices_per_level, \\\n",
    "        self.boundary_vertices = self.grid.get_vertices()\n",
    "        self.vertices_idx_to_coords = {v: k for k, v in self.vertices_coords_to_idx.items()}\n",
    "        self.grid.set_all_cell_vertices(self.vertices_coords_to_idx)\n",
    "        self.grid.set_all_cell_indices()\n",
    "        \n",
    "        self.dirichlet_vertices = set()\n",
    "        for v in self.boundary_vertices:\n",
    "            eps = 1e-8\n",
    "            if self.vertices_idx_to_coords[v][1] >= (1 - eps):\n",
    "                self.dirichlet_vertices.add(v)\n",
    "        \n",
    "        dirichlet_vertices_array = np.array([*self.dirichlet_vertices])\n",
    "        # We do not store the data for Dirichlet values\n",
    "   \n",
    "        self.data_size_per_level = []\n",
    "        for level in range(self.grid.get_max_level()+1):\n",
    "            n_vert = self.number_of_vertices_per_level[level]\n",
    "            n_dirichlet_vert = len(\n",
    "                dirichlet_vertices_array[\n",
    "                    dirichlet_vertices_array < n_vert])\n",
    "            self.data_size_per_level.append(n_vert - n_dirichlet_vert)\n",
    "            \n",
    "        \n",
    "        self.vertex_idx_to_data_idx = np.zeros(self.number_of_vertices_per_level[-1], dtype=np.int32)\n",
    "        self.data_idx_to_vertex_idx = np.zeros(self.data_size_per_level[-1], dtype=np.int32)\n",
    "        cur_data_idx = 0\n",
    "        for i in range(self.number_of_vertices_per_level[-1]):\n",
    "            if i in self.dirichlet_vertices:\n",
    "                self.vertex_idx_to_data_idx[i] = -1\n",
    "            else:\n",
    "                self.vertex_idx_to_data_idx[i] = cur_data_idx\n",
    "                self.data_idx_to_vertex_idx[cur_data_idx] = i\n",
    "                cur_data_idx += 1       \n",
    "        \n",
    "\n",
    "geometry = Geometry(level=4)\n",
    "geometry.number_of_vertices_per_level[0]"
   ]
  },
  {
   "cell_type": "markdown",
   "metadata": {},
   "source": [
    "The figure below shows the grid for level 3.\n",
    "The red crosses show the vertices (at which the solution is defined), the black circle shows the cell center which is connected by the line. This line shows the order of cells (they are in Z-order), starting from the top-left."
   ]
  },
  {
   "cell_type": "code",
   "execution_count": 3,
   "metadata": {},
   "outputs": [
    {
     "data": {
      "image/png": "[encoded data removed]",
      "text/plain": [
       "<Figure size 576x576 with 1 Axes>"
      ]
     },
     "metadata": {
      "needs_background": "light"
     },
     "output_type": "display_data"
    }
   ],
   "source": [
    "import matplotlib.pyplot as plt\n",
    "fig, ax = plt.subplots(figsize=(8,8))\n",
    "ax.set_xlim(geometry.grid.offset[0], geometry.grid.size)\n",
    "ax.set_ylim(geometry.grid.offset[1], geometry.grid.size) \n",
    "plotter.plot_grid(fig,\n",
    "                  ax,\n",
    "                  geometry.grid,\n",
    "                  level=3,\n",
    "                  c='black', \n",
    "                  vertices=geometry.vertices_idx_to_coords,\n",
    "                  plot_curve=True,\n",
    "                  plot_center=True,\n",
    "                  plot_vertices=True)"
   ]
  },
  {
   "cell_type": "markdown",
   "metadata": {},
   "source": [
    "## Solving the system for a single level\n",
    "\n",
    "Below we show how to setup a discretization, geometry and stiffness matrix and rhs.\n",
    "We also show how to compute a solution with a direct solver."
   ]
  },
  {
   "cell_type": "code",
   "execution_count": 4,
   "metadata": {},
   "outputs": [
    {
     "name": "stdout",
     "output_type": "stream",
     "text": [
      "Level 0 has \t4 vertices\n",
      "Level 1 has \t5 vertices\n",
      "Level 2 has \t16 vertices\n",
      "Level 3 has \t56 vertices\n",
      "Level 4 has \t208 vertices\n"
     ]
    },
    {
     "data": {
      "text/plain": [
       "8.390001524265875e-15"
      ]
     },
     "execution_count": 4,
     "metadata": {},
     "output_type": "execute_result"
    }
   ],
   "source": [
    "# Use a simple material\n",
    "def eval_k(x,y):\n",
    "    return x + y\n",
    "\n",
    "level = 4\n",
    "geometry = Geometry(level=4)\n",
    "discretization = fem.Discretization(geometry,level=level,eval_k=eval_k)\n",
    "stiffness = discretization.setup_stiffness()\n",
    "rhs = discretization.setup_rhs()\n",
    "sol = splinalg.linsolve.spsolve(stiffness, rhs)\n",
    "\n",
    "# System is solved correctly to double precision:\n",
    "np.linalg.norm(stiffness @ sol - rhs)"
   ]
  },
  {
   "cell_type": "markdown",
   "metadata": {},
   "source": [
    "## Plotting the solution\n",
    "\n",
    "You can visualize the solution with *plot_solution* as below.\n",
    "It also kept in the notebook as a further example of a grid traversal, for the evaluation of the basis functions and for the handling of Dirichlet boundary conditions.\n",
    "\n",
    "The left plot shows the solution, the right one shows the material parameter.\n",
    "Dirichlet vertices are marked with black x."
   ]
  },
  {
   "cell_type": "code",
   "execution_count": 5,
   "metadata": {
    "scrolled": false
   },
   "outputs": [
    {
     "data": {
      "image/png": "[encoded data removed]",
      "text/plain": [
       "<Figure size 1296x576 with 4 Axes>"
      ]
     },
     "metadata": {
      "needs_background": "light"
     },
     "output_type": "display_data"
    }
   ],
   "source": [
    "def plot_solution(geometry, discretization, sol):\n",
    "    # First find minimum and maximum material parameter\n",
    "    min_k, max_k = float('inf'), float('-inf')\n",
    "    for cell in geometry.grid.dfs(only_level=level):\n",
    "        k = discretization.eval_k(cell.center[0], cell.center[1])\n",
    "        min_k = min(k, min_k)\n",
    "        max_k = max(k, max_k)\n",
    "\n",
    "    # Set up color scales for the solution and the material k.\n",
    "    norm_solution = mpl.colors.Normalize(vmin=sol.min(), vmax=sol.max())\n",
    "    norm_k = mpl.colors.Normalize(vmin=min_k, vmax=max_k)\n",
    "    cmap = cm.viridis\n",
    "    color_mapper_solution = cm.ScalarMappable(norm=norm_solution, cmap=cmap)\n",
    "    color_mapper_k = cm.ScalarMappable(norm=norm_k, cmap=cmap)\n",
    "\n",
    "    fig, axs = plt.subplots(1,2, figsize=(18,8))\n",
    "    \n",
    "    # Lists to store Dirichlet vertices.\n",
    "    dirichlet_xs = []\n",
    "    dirichlet_ys = []\n",
    "\n",
    "    for cell in geometry.grid.dfs(only_level=level):\n",
    "        value = 0.0\n",
    "        # Evaluate all basis functions at (0.5, 0.5)\n",
    "        for i, vertex in enumerate(cell.vertices):\n",
    "            # Ignore dirichlet boundary conditions.\n",
    "            # Their value is not stored and is always zero.\n",
    "            if vertex not in geometry.dirichlet_vertices:\n",
    "                # Here we get the index of the data correspond to the vertex.\n",
    "                data_idx = geometry.vertex_idx_to_data_idx[vertex]\n",
    "                value += sol[data_idx] * fem.lagrange_2d(discretization.nodes_x, i, (0.5,0.5))\n",
    "\n",
    "        # Plot the rectangles that build up the grid.\n",
    "        rect = patches.Rectangle(\n",
    "            cell.offset,\n",
    "            cell.size,\n",
    "            cell.size,\n",
    "            fill=True,\n",
    "            color=color_mapper_solution.to_rgba(value))\n",
    "        axs[0].add_patch(rect)\n",
    "\n",
    "        # Plot material\n",
    "        value = discretization.eval_k(cell.center[0], cell.center[1])\n",
    "        rect = patches.Rectangle(\n",
    "            cell.offset,\n",
    "            cell.size,\n",
    "            cell.size,\n",
    "            fill=True,\n",
    "            color=color_mapper_k.to_rgba(value))\n",
    "        axs[1].add_patch(rect)    \n",
    "\n",
    "        # Find dirichlet vertices\n",
    "        for v in cell.vertices:\n",
    "            if v in geometry.dirichlet_vertices:\n",
    "                dirichlet_xs.append(geometry.vertices_idx_to_coords[v][0])\n",
    "                dirichlet_ys.append(geometry.vertices_idx_to_coords[v][1])\n",
    "                \n",
    "    axs[0].set_title(\"Solution\")\n",
    "    axs[0].axis('square')\n",
    "\n",
    "    axs[1].set_title(\"K\")\n",
    "    axs[1].axis('square')\n",
    "\n",
    "    # Mark Dirichlet vertices with black x.\n",
    "    for ax in axs:\n",
    "        ax.scatter(dirichlet_xs, dirichlet_ys, c='black', zorder=10, marker='x', s=50)\n",
    "        \n",
    "    fig.colorbar(color_mapper_solution, ax=axs[0])    \n",
    "    fig.colorbar(color_mapper_k, ax=axs[1])\n",
    "\n",
    "plot_solution(geometry=geometry, discretization=discretization, sol=sol)"
   ]
  },
  {
   "cell_type": "markdown",
   "metadata": {},
   "source": [
    "# Multigrid\n",
    "## The interpolation and prolongation operators\n",
    "As we've discussed, we are using a finite elements discretization for our equation.\n",
    "An advantage of this is that we have a continuous solution over the entire domain.\n",
    "This is quite helpful for definiting the interpolation operator.\n",
    "\n",
    "Let's look at a single cell and the corresponding fine cells:"
   ]
  },
  {
   "cell_type": "code",
   "execution_count": 6,
   "metadata": {},
   "outputs": [
    {
     "data": {
      "text/plain": [
       "Text(0.5, 1.0, 'Corresponding Fine Cell')"
      ]
     },
     "execution_count": 6,
     "metadata": {},
     "output_type": "execute_result"
    },
    {
     "data": {
      "image/png": "[encoded data removed]",
      "text/plain": [
       "<Figure size 720x720 with 2 Axes>"
      ]
     },
     "metadata": {
      "needs_background": "light"
     },
     "output_type": "display_data"
    }
   ],
   "source": [
    "# Take the first and only cell of level 0.\n",
    "cells = list(geometry.grid.dfs(only_level=0))\n",
    "c = cells[0]\n",
    "\n",
    "fig, axs = plt.subplots(1, 2, sharey=True, figsize=(10,10))\n",
    "plotter.plot_grid(fig, axs[0], grid=c, level=1, vertices=geometry.vertices_idx_to_coords, plot_vertices=True)\n",
    "plotter.plot_grid(fig, axs[1], grid=c, level=2, vertices=geometry.vertices_idx_to_coords, plot_vertices=True)\n",
    "axs[0].axis('square')\n",
    "axs[0].set_title(\"Coarse Cell\")\n",
    "axs[1].axis('square')\n",
    "axs[1].set_title(\"Corresponding Fine Cell\")"
   ]
  },
  {
   "cell_type": "markdown",
   "metadata": {},
   "source": [
    "The left cell in the figure is the coarse cell.\n",
    "The red Xs mark the vertices of each cell.\n",
    "\n",
    "On the right, you can see the corresponding four cells of the grid with one level more.\n",
    "Note that all vertices in the coarse grid also exist in the fine grid.\n",
    "For these vertices, it is trivial to define the fine grid solution.\n",
    "The other vertices can be found by evaluating the basis functions of the coarse cell at their position.\n",
    "In our case, this corresponds to (bi-)linear interpolation.\n",
    "\n",
    "Below you can find some examples of iterating over the vertices of a cell.\n",
    "You can also see how to find the global and reference coordinates for each.\n",
    "Note that each vertex has a global index and a data index.\n",
    "Because the unknowns for the Dirichlet vertices are not stored explicitely, both indices are not identical.\n",
    "Before accessing any matrix/vector that has anything to do with the discrete solution, you need to convert the vertex idx to the data idx.\n",
    "\n",
    "Note that both vertex and data indices are ordered s.t. all indices for a coarse grid also exist in all finer grids."
   ]
  },
  {
   "cell_type": "code",
   "execution_count": 7,
   "metadata": {},
   "outputs": [
    {
     "name": "stdout",
     "output_type": "stream",
     "text": [
      "Found cell with center [0.25 0.75] and size 0.5\n",
      "Its parent has center [0.5 0.5] and size 1.0\n",
      "child's 0th vertex has index 4, data index 2, global coordinates (0.0, 0.5) and reference coordinates [-1. -1.]\n",
      "child's 1th vertex has index 1, data index -1, global coordinates (0.0, 1.0) and reference coordinates [-1.  1.]\n",
      "child's 2th vertex has index 5, data index 3, global coordinates (0.5, 0.5) and reference coordinates [ 1. -1.]\n",
      "child's 3th vertex has index 6, data index -1, global coordinates (0.5, 1.0) and reference coordinates [1. 1.]\n",
      "\n",
      "parent's 0th vertex has index 0, data index 0,  global coordinates (0.0, 0.0) and reference coordinates [-1. -1.]\n",
      "parent's 1th vertex has index 1, data index -1,  global coordinates (0.0, 1.0) and reference coordinates [-1.  1.]\n",
      "parent's 2th vertex has index 2, data index 1,  global coordinates (1.0, 0.0) and reference coordinates [ 1. -1.]\n",
      "parent's 3th vertex has index 3, data index -1,  global coordinates (1.0, 1.0) and reference coordinates [1. 1.]\n",
      "\n",
      "Evaluated first basis function of the parent at position of first reference cell: 0.5\n",
      "Evaluated second basis function of the parent at position of second reference cell: 1.0\n",
      "Vertices of level 0 are\t\t{0, 1, 2, 3},\n",
      "vertices of level 1 are\t\t{0, 1, 2, 3, 4, 5, 6, 7, 8}\n",
      "Data indices of level 0 are\t{0, 1},\n",
      "data indices of level 1 are\t{0, 1, 2, 3, 4, 5}\n"
     ]
    }
   ],
   "source": [
    "# Example of finding vertices:\n",
    "\n",
    "# Take a random cell\n",
    "cell = next(geometry.grid.dfs(only_level=1))\n",
    "print(\"Found cell with center {center} and size {size}\".format(\n",
    "    center=cell.center, \n",
    "    size=cell.size))\n",
    "\n",
    "# Next we find the parent of the cell\n",
    "parent = cell.parent\n",
    "print(\"Its parent has center {center} and size {size}\".format(\n",
    "    center=parent.center, \n",
    "    size=parent.size))\n",
    "\n",
    "# Our cell has a few vertices:\n",
    "for i, vertex in enumerate(cell.vertices):\n",
    "    global_coords = geometry.vertices_idx_to_coords[vertex]\n",
    "    reference_coords = fem.map_to_reference_coordinates(cell, global_coords)\n",
    "    print(\n",
    "        \"child's {i}th vertex has index {idx}, data index {data_idx}, global coordinates {global_coords} and reference coordinates {reference_coords}\".format(\n",
    "    i=i,\n",
    "    idx=vertex,\n",
    "    data_idx=geometry.vertex_idx_to_data_idx[vertex],\n",
    "    global_coords=global_coords,\n",
    "    reference_coords=reference_coords))\n",
    "    \n",
    "print()\n",
    "# The parent also has vertices:\n",
    "for i, vertex in enumerate(parent.vertices):\n",
    "    global_coords = geometry.vertices_idx_to_coords[vertex]\n",
    "    reference_coords = fem.map_to_reference_coordinates(parent, global_coords)\n",
    "    print(\n",
    "        \"parent's {i}th vertex has index {idx}, data index {data_idx},  global coordinates {global_coords} and reference coordinates {reference_coords}\".format(\n",
    "    i=i,\n",
    "    idx=vertex,\n",
    "    data_idx=geometry.vertex_idx_to_data_idx[vertex],\n",
    "    global_coords=global_coords,\n",
    "    reference_coords=reference_coords))\n",
    "# Note that the vertices of both cells have the same reference coordinates.     \n",
    "\n",
    "        \n",
    "# Now we want to evaluate the \n",
    "# We can take the first vertex of the PARENT\n",
    "first_basis_function_parent = parent.vertices[0]\n",
    "first_vertex_cell = cell.vertices[0]\n",
    "coordinates_vertex_cell = np.array(geometry.vertices_idx_to_coords[first_vertex_cell])\n",
    "# Important: We map to the reference coordinates of the PARENT!\n",
    "reference_coordinates_vertex_cell = fem.map_to_reference_coordinates(parent, coordinates_vertex_cell)\n",
    "\n",
    "# and evaluate the basis function of the parent\n",
    "# Note here that the basis is \n",
    "print(\"\\nEvaluated first basis function of the parent at position of first reference cell: {}\".format(\n",
    "    fem.lagrange_2d(discretization.nodes_x, first_basis_function_parent, reference_coordinates_vertex_cell)))\n",
    "\n",
    "# We can also do this with the second basis function and vertex.\n",
    "# Note that these two have the same coordinates.\n",
    "# We thus expect the basis function to evaluate to one.\n",
    "basis_parent = parent.vertices[1]\n",
    "coords_vertex_cell = fem.map_to_reference_coordinates(parent, \n",
    "                                                      np.array(geometry.vertices_idx_to_coords[cell.vertices[1]]))\n",
    "print(\"Evaluated second basis function of the parent at position of second reference cell: {}\".format(\n",
    "    fem.lagrange_2d(discretization.nodes_x, basis_parent, coords_vertex_cell)))\n",
    "\n",
    "# Show that vertices of level l are subset of vertices of level l+1\n",
    "def collect_vertex_ids(geometry, level):\n",
    "    vertex_ids = set()\n",
    "    data_ids = set()\n",
    "    # You can iterate through the cells of a level with a depth-first search.\n",
    "    for cell in geometry.grid.dfs(only_level=level):\n",
    "        for vertex in cell.vertices:\n",
    "            vertex_ids.add(vertex)\n",
    "            if vertex not in geometry.dirichlet_vertices:\n",
    "                data_ids.add(geometry.vertex_idx_to_data_idx[vertex])\n",
    "            \n",
    "    return vertex_ids, data_ids\n",
    "\n",
    "v_0, d_0 = collect_vertex_ids(geometry, 0)\n",
    "v_1, d_1 = collect_vertex_ids(geometry, 1)\n",
    "print(\"Vertices of level 0 are\\t\\t{},\\nvertices of level 1 are\\t\\t{}\".format(v_0, v_1))\n",
    "print(\"Data indices of level 0 are\\t{},\\ndata indices of level 1 are\\t{}\".format(d_0, d_1))"
   ]
  },
  {
   "cell_type": "markdown",
   "metadata": {},
   "source": [
    "## Interpolation\n",
    "\n",
    "<div style=\"text-align: right\"> **[6 points]** </div>\n",
    "\n",
    "Your task is to create the interpolation matrix.\n",
    "Below are two function templates that you need to adapt.\n",
    "\n",
    "The first function evaluate_solution should evaluate all basis functions of a cell at a given global cordinate.\n",
    "It should return a dictionary that maps vertices of the cell to the evauated basis functions.\n",
    "Use the functions *fem.map_to_reference_coordinates(cell, coord)* to map the coordinates to the reference coordinates and the function *fem.lagrange_2d(discretization.nodes_x, index, reference_coords)* to evaluate the basis function with index *index*. Note that the vertices are sorted s.t. they are ordered identically to the basis functions when looping through cell.vertices.\n",
    "Furthermore be careful to check whether the vertex is a Dirichlet vertex - in this case, the coefficient has to be zero.\n",
    "\n",
    "The set of all vertex ids corresponding to the Dirichlet BC is in *geometry.dirichlet_vertices*.\n",
    "\n",
    "The second function make_interpolation maps from a level_coarse to the next level.\n",
    "The interpolation matrix has the entries $(i,j)$ where i are the data indices correspond tovertices of the coarse grid and $j$ are the coefficients of the hat basis.\n",
    "The algorithm for building up the interpolation matrix is quite simple:\n",
    "\n",
    "- Loop through all cells\n",
    "- Find their parent with cell.parent\n",
    "- Loop over all vertices (in cell.vertices)\n",
    "- Find their indices with geometry.vertices_idx_to_coords\\[vertex_id\\]\n",
    "- Use evaluate_solution to find the coefficients of the parent's basis functions and set the entry in the matrix.\n",
    "\n",
    "You basically have to loop through all cells of a given level, and then use the function evaluate_solution to find the coefficients.\n",
    "You can also refer to worksheet 9, which defines the interpolation operator for the 1D-case - the 2D-algorithm is identical.\n",
    "Note that you should be careful to use *geometry.vertex_idx_to_data_idx* to convert from the vertex to the data index, where appropiate.\n",
    "You can find the number of data points per level in the array *geometry.data_size_per_level[level]*.\n",
    "\n",
    "Only return sparse matrices. Otherwise you will run out of memory for larger levels. \n",
    "\n",
    "Remark: The algorithm basically performs bi-linear interpolation and can also be implemented as a matrix-vector product. For this worksheet, use the algorithm defined above.\n",
    "\n",
    "**Task**: Compute the prolongation/interpolation matrix."
   ]
  },
  {
   "cell_type": "code",
   "execution_count": 8,
   "metadata": {
    "scrolled": false
   },
   "outputs": [
    {
     "name": "stdout",
     "output_type": "stream",
     "text": [
      "Interpolation Matrix\n",
      "  [[1.   0.   0.   0.   0.   0.  ]\n",
      " [0.   1.   0.   0.   0.   0.  ]\n",
      " [0.   0.   1.   0.   0.   0.  ]\n",
      " [0.   0.   0.   1.   0.   0.  ]\n",
      " [0.   0.   0.   0.   1.   0.  ]\n",
      " [0.   0.   0.   0.   0.   1.  ]\n",
      " [0.   0.   0.5  0.   0.   0.  ]\n",
      " [0.   0.   0.25 0.25 0.   0.  ]\n",
      " [0.   0.   0.   0.5  0.   0.  ]\n",
      " [0.   0.   0.5  0.5  0.   0.  ]\n",
      " [0.   0.   0.   0.25 0.25 0.  ]\n",
      " [0.   0.   0.   0.   0.5  0.  ]\n",
      " [0.   0.   0.   0.5  0.5  0.  ]\n",
      " [0.5  0.   0.5  0.   0.   0.  ]\n",
      " [0.25 0.   0.25 0.25 0.   0.25]\n",
      " [0.   0.   0.   0.5  0.   0.5 ]\n",
      " [0.5  0.   0.   0.   0.   0.5 ]\n",
      " [0.   0.25 0.   0.25 0.25 0.25]\n",
      " [0.   0.5  0.   0.   0.5  0.  ]\n",
      " [0.   0.5  0.   0.   0.   0.5 ]]\n",
      "Number of non-zero values in Interpolation Matrix 35\n"
     ]
    }
   ],
   "source": [
    "def evaluate_solution(geometry, discretization, cell, coord):\n",
    "    # Get the parent of the cell\n",
    "    parent = cell.parent\n",
    "    # Get the reference coordinates of the coord in the parent cell\n",
    "    reference_coordinates = fem.map_to_reference_coordinates(parent, coord)\n",
    "    # Declare dictionary to store evaluated basis functions at each coordinate\n",
    "    evaluated_cell_basis = dict()\n",
    "    # Loop through the parent's vertices\n",
    "    for i, vertex in enumerate(parent.vertices):\n",
    "        # Ignore Dirichlet vertices\n",
    "        if vertex not in geometry.dirichlet_vertices:\n",
    "            # Calculate the data index\n",
    "            data_idx = geometry.vertex_idx_to_data_idx[vertex]\n",
    "            # Populate the dictionary with the evaluation of the basis function with the respective \n",
    "            # data index\n",
    "            evaluated_cell_basis[data_idx] = fem.lagrange_2d(discretization.nodes_x, i, reference_coordinates)\n",
    "    # Return dictionary\n",
    "    return evaluated_cell_basis\n",
    "\n",
    "def make_interpolation(geometry, level_coarse):\n",
    "    # Deduce fine level and set up the discritization for the fine level\n",
    "    level_fine = level_coarse + 1\n",
    "    discretization = fem.Discretization(geometry, level_fine)\n",
    "\n",
    "    # Set up the dimensions and declare the interporation matrix as a sparse matrix\n",
    "    number_of_vertices_coarse = geometry.data_size_per_level[level_coarse]\n",
    "    number_of_vertices_fine = geometry.data_size_per_level[level_fine]\n",
    "    interpolation = sp.lil_matrix((number_of_vertices_fine, number_of_vertices_coarse), dtype=np.float64)\n",
    "    \n",
    "    # Abbreviation: ATMT = *AVOIDING *TRAVERSING THE VERTICES *MULTIPLE *TIMES WITHIN THE SAME PARENT\n",
    "    # These checks avoid calculting basis functions for the same vertex within same parent \n",
    "    # Improves problem set up time significantly for large grids \n",
    "    \n",
    "    # ATMT: Declare current parent\n",
    "    current_parent = None\n",
    "    # Loop through all the fine level cells\n",
    "    for cell_fine in geometry.grid.dfs(only_level=level_fine):\n",
    "        # ATMT: Get the parent of current cell\n",
    "        cell_parent = cell_fine.parent\n",
    "        # ATMT: If it is a new parent empty the list traversed_vertices_in_same_parent and set current parent\n",
    "        # ATMT: The size of the list would be maximum 9\n",
    "        if cell_parent is not current_parent:\n",
    "            traversed_vertices_in_same_parent = []\n",
    "            current_parent = cell_parent\n",
    "        # Loop through all the vertices of the fine level cell\n",
    "        for vertex in cell_fine.vertices:\n",
    "            # Ignore Direchlet boundary vertices and,\n",
    "            # ATMT: Ignore if the vetex is already traversed within same parent\n",
    "            if vertex not in geometry.dirichlet_vertices and vertex not in traversed_vertices_in_same_parent:\n",
    "                # ATMT: Append the list traversed_vertices_in_same_parent with the vertex\n",
    "                traversed_vertices_in_same_parent.append(vertex)\n",
    "                # Get the global coordinates of the vertex\n",
    "                global_coordinates = np.array(geometry.vertices_idx_to_coords[vertex])\n",
    "                # Get the dictionary of evaluated basis functions for the global coordinate\n",
    "                evaluated_cell_basis = evaluate_solution(geometry, discretization, cell_fine, global_coordinates)\n",
    "                # Get the data index of the fine level vertex\n",
    "                fine_data_idx = geometry.vertex_idx_to_data_idx[vertex]\n",
    "                # Populate the matrix according to the fine level data index and the \n",
    "                # coarse level data index from the dictionary\n",
    "                interpolation[fine_data_idx,list(evaluated_cell_basis.keys())] =  list(evaluated_cell_basis.values())\n",
    "    # Return the interpolation matrix in the Compressed Sparse Column format\n",
    "    return interpolation.tocsc()\n",
    "\n",
    "level_coarse = 1\n",
    "\n",
    "interpolation = make_interpolation(geometry, level_coarse=level_coarse)\n",
    "print(\"Interpolation Matrix\\n \" ,interpolation.todense())\n",
    "print(\"Number of non-zero values in Interpolation Matrix\",np.count_nonzero(interpolation.todense()))"
   ]
  },
  {
   "cell_type": "markdown",
   "metadata": {},
   "source": [
    "## Restriction\n",
    "\n",
    "<div style=\"text-align: right\"> **[2 points]** </div>\n",
    "\n",
    "The restriction matrix is the transpose of the interpolation matrix. Implement this as the function make_restricion, again making sure that the matrix is sparse."
   ]
  },
  {
   "cell_type": "code",
   "execution_count": 9,
   "metadata": {},
   "outputs": [
    {
     "data": {
      "text/plain": [
       "matrix([[1.  , 0.  , 0.  , 0.  , 0.  , 0.  , 0.  , 0.  , 0.  , 0.  ,\n",
       "         0.  , 0.  , 0.  , 0.5 , 0.25, 0.  , 0.5 , 0.  , 0.  , 0.  ],\n",
       "        [0.  , 1.  , 0.  , 0.  , 0.  , 0.  , 0.  , 0.  , 0.  , 0.  ,\n",
       "         0.  , 0.  , 0.  , 0.  , 0.  , 0.  , 0.  , 0.25, 0.5 , 0.5 ],\n",
       "        [0.  , 0.  , 1.  , 0.  , 0.  , 0.  , 0.5 , 0.25, 0.  , 0.5 ,\n",
       "         0.  , 0.  , 0.  , 0.5 , 0.25, 0.  , 0.  , 0.  , 0.  , 0.  ],\n",
       "        [0.  , 0.  , 0.  , 1.  , 0.  , 0.  , 0.  , 0.25, 0.5 , 0.5 ,\n",
       "         0.25, 0.  , 0.5 , 0.  , 0.25, 0.5 , 0.  , 0.25, 0.  , 0.  ],\n",
       "        [0.  , 0.  , 0.  , 0.  , 1.  , 0.  , 0.  , 0.  , 0.  , 0.  ,\n",
       "         0.25, 0.5 , 0.5 , 0.  , 0.  , 0.  , 0.  , 0.25, 0.5 , 0.  ],\n",
       "        [0.  , 0.  , 0.  , 0.  , 0.  , 1.  , 0.  , 0.  , 0.  , 0.  ,\n",
       "         0.  , 0.  , 0.  , 0.  , 0.25, 0.5 , 0.5 , 0.25, 0.  , 0.5 ]])"
      ]
     },
     "execution_count": 9,
     "metadata": {},
     "output_type": "execute_result"
    }
   ],
   "source": [
    "def make_restriction(geometry, level_coarse):\n",
    "    # Generate the interpolation matrix from the make_interpolation function\n",
    "    interpolation = make_interpolation(geometry, level_coarse=level_coarse)\n",
    "    # Deduce the restriction matrix by taking the transpose of the interpolation matrix\n",
    "    restriction = interpolation.T\n",
    "    # Return in Compressed Sparse Column format\n",
    "    return restriction.tocsc()\n",
    "\n",
    "make_restriction(geometry, level_coarse=level_coarse).todense()"
   ]
  },
  {
   "cell_type": "markdown",
   "metadata": {},
   "source": [
    "# Coarse Grid Operator\n",
    "\n",
    "<div style=\"text-align: right\"> **[6 points]** </div>\n",
    "\n",
    "Next, we use the Galerkin construction of the coarse grid operators.\n",
    "We define the coarse grid operators as\n",
    "\n",
    "$$A^{2h} = R^{h \\to 2h} A^{h} P^{2h \\to ih}$$\n",
    "\n",
    "where $A^{2h}$ is the operator on a grid that's one level smaller than the operator $A^{h}$.\n",
    "\n",
    "$P^{h \\to 2h}$ is the prologation/interpolaton operator that maps a vector from a grid to a grid of the next level and $R^{h \\to 2h}$ is the restriction operator that maps to the next coarser grid.\n",
    "\n",
    "The data structure is already defined below. You need to fill in the blanks and initialize the variables\n",
    "\n",
    "```\n",
    "coarse_to_fine\n",
    "fine_to_coarse\n",
    "stiffness\n",
    "```\n",
    "\n",
    "You can initialize the stiffness matrices by going from the finest grid backwards and computing the coarser operator from the previously computed matrix.\n",
    "\n",
    "The output for level_min=1, level_max=3 should look like this (you can ignore the specific sparse matrix format, as long as the matrices are sparse):\n",
    "\n",
    "```\n",
    "storage.fine_to_coarse\n",
    "([<2x6 sparse matrix of type '<class 'numpy.float64'>'\n",
    "  \twith 8 stored elements in Compressed Sparse Row format>,\n",
    "  <6x20 sparse matrix of type '<class 'numpy.float64'>'\n",
    "  \twith 35 stored elements in Compressed Sparse Row format>,\n",
    "  <20x72 sparse matrix of type '<class 'numpy.float64'>'\n",
    "  \twith 143 stored elements in Compressed Sparse Row format>]\n",
    "```\n",
    "\n",
    "```\n",
    "storage.coarse_to_fine\n",
    "[<6x2 sparse matrix of type '<class 'numpy.float64'>'\n",
    "  \twith 8 stored elements in Compressed Sparse Column format>,\n",
    "  <20x6 sparse matrix of type '<class 'numpy.float64'>'\n",
    "  \twith 35 stored elements in Compressed Sparse Column format>,\n",
    "  <72x20 sparse matrix of type '<class 'numpy.float64'>'\n",
    "  \twith 143 stored elements in Compressed Sparse Column format>]\n",
    "```\n",
    "   \n",
    "```\n",
    "storage.stiffness\n",
    "[<6x6 sparse matrix of type '<class 'numpy.float64'>'\n",
    "  \twith 28 stored elements in Compressed Sparse Row format>,\n",
    "  <20x20 sparse matrix of type '<class 'numpy.float64'>'\n",
    "  \twith 130 stored elements in Compressed Sparse Row format>,\n",
    "  <72x72 sparse matrix of type '<class 'numpy.float64'>'\n",
    "  \twith 550 stored elements in Compressed Sparse Column format>]\n",
    "```\n",
    "\n",
    "The coarse grid operators that you get from:\n",
    "\n",
    "- direct discretization on the coarse grid\n",
    "- Galerkin construction\n",
    "\n",
    "should be identical up to a constant."
   ]
  },
  {
   "cell_type": "code",
   "execution_count": 10,
   "metadata": {},
   "outputs": [
    {
     "name": "stdout",
     "output_type": "stream",
     "text": [
      "Level 0 has \t4 vertices\n",
      "Level 1 has \t5 vertices\n",
      "Level 2 has \t16 vertices\n",
      "Level 3 has \t56 vertices\n",
      "[<2x6 sparse matrix of type '<class 'numpy.float64'>'\n",
      "\twith 8 stored elements in Compressed Sparse Row format>, <6x20 sparse matrix of type '<class 'numpy.float64'>'\n",
      "\twith 35 stored elements in Compressed Sparse Row format>, <20x72 sparse matrix of type '<class 'numpy.float64'>'\n",
      "\twith 143 stored elements in Compressed Sparse Row format>] \n",
      "\n",
      "[<6x2 sparse matrix of type '<class 'numpy.float64'>'\n",
      "\twith 8 stored elements in Compressed Sparse Column format>, <20x6 sparse matrix of type '<class 'numpy.float64'>'\n",
      "\twith 35 stored elements in Compressed Sparse Column format>, <72x20 sparse matrix of type '<class 'numpy.float64'>'\n",
      "\twith 143 stored elements in Compressed Sparse Column format>] \n",
      "\n",
      "[<6x6 sparse matrix of type '<class 'numpy.float64'>'\n",
      "\twith 28 stored elements in Compressed Sparse Row format>, <20x20 sparse matrix of type '<class 'numpy.float64'>'\n",
      "\twith 130 stored elements in Compressed Sparse Row format>, <72x72 sparse matrix of type '<class 'numpy.float64'>'\n",
      "\twith 550 stored elements in Compressed Sparse Column format>]\n"
     ]
    }
   ],
   "source": [
    "class MultigridStorage:\n",
    "    def __init__(self, discretization, level_min, level_max, stiffness):\n",
    "        self.level_min = level_min\n",
    "        self.level_max = level_max\n",
    "        \n",
    "        self.geometry = discretization.geometry\n",
    "        self.number_of_levels = (level_max - level_min + 1)\n",
    "        \n",
    "        ## Storage for Interpolation Matrices\n",
    "        self.coarse_to_fine = []\n",
    "        ## Storage for Restriction Matrices\n",
    "        self.fine_to_coarse = []\n",
    "        ## Storage for Stiffness Matrices\n",
    "        self.stiffness = [stiffness]\n",
    "        \n",
    "        ## Populate the storage with interpolation and restriction matrices at each level\n",
    "        for level in range(level_min,level_max+1):\n",
    "            ## Compute Interpolation matrix\n",
    "            interpolation_matrix = make_interpolation(self.geometry, level-1)\n",
    "            ## Store Interpolation matrix directly\n",
    "            self.coarse_to_fine.append(interpolation_matrix)\n",
    "            \n",
    "            ## Transpose already computed Interpolation matrix to get Restriction matrix and store it\n",
    "            ## This is to avoid calling 'make_interpolation' function from within 'make_restriction'\n",
    "            ## (which is the most expensive function to evaluate, in our case atleast)\n",
    "            self.fine_to_coarse.append(interpolation_matrix.T)\n",
    "            ## Compute Restriction Matrix and store (Not used)\n",
    "            # self.fine_to_coarse.append(make_restriction(self.geometry,level-1))\n",
    "        \n",
    "        ## Populate the stiffness matrices in the reverse order from the finest to the coarsest\n",
    "        for level in reversed(range(level_min, level_max)):\n",
    "            ## Calculate index corresponding to level in storage\n",
    "            index_level = level - self.level_min + 1\n",
    "            ## Calculate Coarse (level - 1) Matrix from fine (level) stiffness matrix and corresponding \n",
    "            ## interpolation and restriction matrix\n",
    "            next_stiffness = self.fine_to_coarse[index_level] @ self.stiffness[0] \\\n",
    "                            @ self.coarse_to_fine[index_level]\n",
    "            ## Insert the coarse level stiffness matrix to the front of list (Tried 'deque appendleft()' too but \n",
    "            ## not too much perfomance upgrade in place of 'insert' operation)\n",
    "            self.stiffness.insert(0, next_stiffness)\n",
    "                \n",
    "level = 3\n",
    "geometry = Geometry(level=level)\n",
    "eval_k = lambda x, y: x + y + 0.001\n",
    "discretization = fem.Discretization(geometry, level=level, eval_k=eval_k)\n",
    "stiffness = discretization.setup_stiffness()\n",
    "rhs = discretization.setup_rhs()\n",
    "sol = splinalg.linsolve.spsolve(stiffness, rhs)\n",
    "\n",
    "storage = MultigridStorage(discretization, level_min=1, level_max=level, stiffness=stiffness)\n",
    "\n",
    "print(storage.fine_to_coarse,\"\\n\")\n",
    "print(storage.coarse_to_fine, \"\\n\")\n",
    "print(storage.stiffness)"
   ]
  },
  {
   "cell_type": "markdown",
   "metadata": {},
   "source": [
    "# Smoother\n",
    "\n",
    "<div style=\"text-align: right\"> **[2 points]** </div>\n",
    "\n",
    "We've seen how we can create a linear system $Ax = b$ with our grid and dicretization.\n",
    "How can we solve it?\n",
    "\n",
    "The next step towards multigrid is defining the smoother.\n",
    "Here, we want to use a simple Jacobi relaxation.\n",
    "We split the matrix $A$ into a diagonal and an off-diagonal part as\n",
    "$$A = D + O,$$\n",
    "we can then write one Jacobi update as\n",
    "$$x^{n+1} = D^{-1} (b - O x^{n}).$$\n",
    "\n",
    "**Task**:\n",
    "Implement this. Either use the row-wise method or use sparse linear algebra methods from scipy. Never build up a dense matrix! You are free to use the method scipy.sparse.diags (or sp.diags here) to extract the diagonal part of A."
   ]
  },
  {
   "cell_type": "code",
   "execution_count": 11,
   "metadata": {},
   "outputs": [],
   "source": [
    "def jacobi_relaxation(A, x, b, num_it):\n",
    "    ## Initial guess\n",
    "    x_new = x\n",
    "    ## Extract diagonal elements in a list\n",
    "    D = A.diagonal()\n",
    "    ## Sparse Inverse Diagonal Matrix\n",
    "    Dinv = sp.diags(1./D)\n",
    "    ## Sparse Diagonal Matrix \n",
    "    D = sp.diags(D)\n",
    "    \n",
    "    ## Jacobi Relaxation\n",
    "    for i in range(num_it):\n",
    "        x_new = Dinv @ (b-(A-D) @ x)\n",
    "        # Update x with x_new\n",
    "        x = x_new\n",
    "    return x\n",
    "\n",
    "def compute_residual(A, x, b, norm = True):\n",
    "    \"\"\"Computes Residual.\n",
    "\n",
    "    Parameters\n",
    "    ----------\n",
    "    A : `numpy.ndarray`, (N, N)\n",
    "    x : `numpy.ndarray`, (N,)\n",
    "    y : `numpy.ndarray`, (N,)\n",
    "        \n",
    "    Returns\n",
    "    -------\n",
    "    Residual : `float` \n",
    "        if norm = True\n",
    "    Residual : `numpy.ndarray`, (N,)\n",
    "        if norm = False\n",
    "    \"\"\"\n",
    "    # Return norm of residual if norm = True\n",
    "    if (norm):\n",
    "        return np.linalg.norm(b - A @ x)\n",
    "    # Return the residual vector otherwise\n",
    "    return  b - A @ x"
   ]
  },
  {
   "cell_type": "markdown",
   "metadata": {},
   "source": [
    "# V-Cycle\n",
    "\n",
    "<div style=\"text-align: right\"> **[12 points]** </div>\n",
    "\n",
    "We use the following recursive algorithm do define one v-cycle (see A multigrid tutorial Chapter 3 or lecture for more details).\n",
    "The vcycle operator $V^h$ for a grid with spacing $h$, initial guess $v^h$ and right-hand-side $f^h$ is\n",
    "$$v^h = V^h(v^h,f^h)$$\n",
    "\n",
    "1. Relax $s_1$ times on $A^h u^h = f^h$\n",
    "2. If already coarsest grid, go to step 5 (no further iteration possible).\n",
    "3. Else:\n",
    "\n",
    "    (Setup rhs for residual equation)\n",
    "\n",
    "    $$f^{2h} = R^{2h \\to h} (f^h - A^h v^h)$$\n",
    "    \n",
    "    (Set initial guess for update to zero)\n",
    "    \n",
    "    $$v^{2h} = 0$$\n",
    "    \n",
    "    (Call vcycle recursively.)\n",
    "    \n",
    "    $$v^{2h} = V^{2h} (v^{2h}, f^{2h})$$\n",
    "\n",
    "4. Correct $$v^h = v^h +P^{2h \\to h} v^{2h} $$\n",
    "5. Relax $s_2$ times on $A^h u^h = f^h$ with initial guess $v^h$.\n",
    "  \n",
    "We have defined all necessary matrices and the smoother in the steps before.\n",
    "The only part left is combining all loose parts into one coherent algorithm.\n",
    "\n",
    "We choose $s_1=5$, $s_2=5$.\n",
    "\n",
    "**Task**: Implement this. You can use the MultigridStorage that you've defined earlier to access the grid transfer matrices and the coarse grid operators. \n",
    "Show the solution that you get. Use the code below to compare the v-cycle and Jacobi relaxation."
   ]
  },
  {
   "cell_type": "code",
   "execution_count": 12,
   "metadata": {},
   "outputs": [],
   "source": [
    "def v_cycle(storage, level, rhs, unknowns):\n",
    "    \n",
    "    ## Calculate the index in storage for current level\n",
    "    index_level = level - storage.level_min\n",
    "    \n",
    "    ## Presmoothing by calling Jacobi relaxation 5 times for A_h, u_h , f_h\n",
    "    if(level == storage.level_max):\n",
    "        ## Hardcoding S1 = 5 since it's given\n",
    "        unknowns = jacobi_relaxation(A=storage.stiffness[index_level], x=unknowns, b=rhs, num_it=5)\n",
    "        # Store initial_solution for correction at the end of the vcycle\n",
    "        initial_solution = unknowns\n",
    "\n",
    "    ## Unknowns in the next coarser grid\n",
    "    unknowns_coarse = np.zeros(storage.fine_to_coarse[index_level].shape[0])\n",
    "    \n",
    "    ## Check if the grid is not at the coarsest level\n",
    "    if(level > storage.level_min):\n",
    "        ## Calculate Residual\n",
    "        residual = compute_residual(A=storage.stiffness[index_level], x=unknowns, b=rhs, norm=False )\n",
    "        ## Restrict to the current level\n",
    "        rhs_coarse = storage.fine_to_coarse[index_level] @ residual\n",
    "        ## Recursively Call vcycle\n",
    "        unknowns = v_cycle(storage, level - 1, rhs_coarse, unknowns_coarse)\n",
    "    \n",
    "    #Solve if at the coarsest level with Jacobi smoothing again\n",
    "    if(level == storage.level_min):\n",
    "        ## Hardcoding S2 = 5 since it's given\n",
    "        unknowns = jacobi_relaxation(A=storage.stiffness[index_level], x=unknowns, b=rhs, num_it=5)\n",
    "    \n",
    "    ## Interpolation if level is less than finest level\n",
    "    if (level < storage.level_max):\n",
    "        ## Unknowns in the next finer grid\n",
    "        unknowns_fine = np.zeros(storage.coarse_to_fine[index_level+1].shape[0])    \n",
    "        ## Interpolation\n",
    "        unknowns_fine = storage.coarse_to_fine[index_level+1] @ unknowns       \n",
    "\n",
    "    # Final steps at the finest level\n",
    "    if(level == storage.level_max):\n",
    "        ## Unknowns in the finest grid\n",
    "        unknowns_fine = np.zeros(storage.coarse_to_fine[index_level].shape[0])  \n",
    "        ## Correction of error at the finest level\n",
    "        unknowns_fine = unknowns + initial_solution\n",
    "        ## Post-smoothing by calling Jacobi relaxation 5 times for A_h, u_h , f_h on the finest level\n",
    "        ## Hardcoding S2 = 5 since it's given\n",
    "        unknowns_fine = jacobi_relaxation(A=storage.stiffness[index_level], x=unknowns_fine, b=rhs, num_it=5)\n",
    "        \n",
    "    return unknowns_fine\n"
   ]
  },
  {
   "cell_type": "code",
   "execution_count": 13,
   "metadata": {
    "scrolled": true
   },
   "outputs": [
    {
     "name": "stdout",
     "output_type": "stream",
     "text": [
      "Residual after 1 iterations = 0.06796741277153114,\tError = 53.78268140644855\n",
      "Residual after 2 iterations = 0.010597805141273512,\tError = 8.225130288924467\n",
      "Residual after 3 iterations = 0.0016556594225339246,\tError = 1.2678353594638476\n",
      "Residual after 4 iterations = 0.00025768842596331475,\tError = 0.1959205774308827\n",
      "Residual after 5 iterations = 3.999728808015285e-05,\tError = 0.030302391041618984\n",
      "Residual after 6 iterations = 6.19884521701232e-06,\tError = 0.004688214104780366\n",
      "Residual after 7 iterations = 9.599630583425155e-07,\tError = 0.0007254127509950461\n",
      "Residual after 8 iterations = 1.4860349388028395e-07,\tError = 0.00011224824045475793\n",
      "Residual after 9 iterations = 2.29995165770849e-08,\tError = 1.736919507467417e-05\n",
      "Residual after 10 iterations = 3.559309600411759e-09,\tError = 2.6877065507302736e-06\n",
      "Total Time:  0.12977474000126676\n"
     ]
    }
   ],
   "source": [
    "# Zero initial guess\n",
    "unknowns = np.zeros(geometry.data_size_per_level[storage.level_max])\n",
    "total_time = 0.0\n",
    "for cycle in range(10):\n",
    "    start = time.perf_counter()\n",
    "    unknowns = v_cycle(storage, level=storage.level_max, rhs=rhs, unknowns=unknowns)\n",
    "    end = time.perf_counter()\n",
    "    total_time += end - start\n",
    "    print(\"Residual after {} iterations = {},\\tError = {}\".\n",
    "          format(\n",
    "          (cycle+1),\n",
    "          compute_residual(stiffness, unknowns, rhs),\n",
    "          np.linalg.norm(sol - unknowns)\n",
    "          ))\n",
    "\n",
    "print(\"Total Time: \", total_time)\n"
   ]
  },
  {
   "cell_type": "code",
   "execution_count": 14,
   "metadata": {},
   "outputs": [
    {
     "data": {
      "image/png": "[encoded data removed]",
      "text/plain": [
       "<Figure size 1296x576 with 4 Axes>"
      ]
     },
     "metadata": {
      "needs_background": "light"
     },
     "output_type": "display_data"
    }
   ],
   "source": [
    "plot_solution(geometry, discretization, unknowns)"
   ]
  },
  {
   "cell_type": "code",
   "execution_count": 15,
   "metadata": {},
   "outputs": [
    {
     "name": "stdout",
     "output_type": "stream",
     "text": [
      "Residual after 100 \titerations = 0.052904352579806836,\tError = 40.69796300381208\n",
      "Residual after 200 \titerations = 0.0061907758704244555,\tError = 4.7618799621785834\n",
      "Residual after 300 \titerations = 0.0007243800651490803,\tError = 0.557185498285041\n",
      "Residual after 400 \titerations = 8.47593986450789e-05,\tError = 0.06519603456160535\n",
      "Residual after 500 \titerations = 9.917660636429444e-06,\tError = 0.007628559852700098\n",
      "Residual after 600 \titerations = 1.160461188527307e-06,\tError = 0.0008926144943846623\n",
      "Residual after 700 \titerations = 1.3578506229382944e-07,\tError = 0.00010444443660629232\n",
      "Residual after 800 \titerations = 1.588815137876132e-08,\tError = 1.222099849910344e-05\n",
      "Residual after 900 \titerations = 1.859065164891264e-09,\tError = 1.4299738481308959e-06\n",
      "Residual after 1000 \titerations = 2.1752786358978566e-10,\tError = 1.6732067075295299e-07\n",
      "Total Time:  0.36303917599889246\n"
     ]
    }
   ],
   "source": [
    "unknowns = np.zeros(geometry.data_size_per_level[storage.level_max])\n",
    "total_time = 0.0\n",
    "for it in range(10):\n",
    "    start = time.perf_counter()\n",
    "    unknowns = jacobi_relaxation(A=stiffness, x=unknowns, b=rhs, num_it=100)\n",
    "    end = time.perf_counter()\n",
    "    total_time += end - start\n",
    "    print(\"Residual after {} \\titerations = {},\\tError = {}\".\n",
    "          format(\n",
    "          (it+1) * 100,\n",
    "          compute_residual(stiffness, unknowns, rhs),\n",
    "          np.linalg.norm(sol - unknowns)\n",
    "          ))\n",
    "print(\"Total Time: \", total_time)\n",
    "    "
   ]
  },
  {
   "cell_type": "code",
   "execution_count": 16,
   "metadata": {},
   "outputs": [
    {
     "data": {
      "image/png": "[encoded data removed]",
      "text/plain": [
       "<Figure size 1296x576 with 4 Axes>"
      ]
     },
     "metadata": {
      "needs_background": "light"
     },
     "output_type": "display_data"
    }
   ],
   "source": [
    "plot_solution(geometry, discretization, unknowns)"
   ]
  },
  {
   "cell_type": "markdown",
   "metadata": {},
   "source": [
    "## Analyizing the convergence\n",
    "\n",
    "<div style=\"text-align: right\"> **[6 points]** </div>\n",
    "\n",
    "**Task** We want to compare the convergnce properties of our smoother with the v-cycle algorithm.\n",
    "Answer the following questions:\n",
    "\n",
    "- How many iterations are needed to get a residual lower than 1e-6?\n",
    "\n",
    "- How many prolongations, restrictions, and smoother steps are needed for one/all multigrid cycles?\n",
    "\n",
    "For the first one, write the code below, for the second one, write your answer in the following text field."
   ]
  },
  {
   "cell_type": "markdown",
   "metadata": {},
   "source": [
    "**Answer**: \n",
    "\n",
    "For one multigrid cycle:\n",
    "\n",
    "* Number of prolongations  = level_max - level_min\n",
    "\n",
    "* Number of restrictions   = level_max - level_min\n",
    "\n",
    "* Number of smoother steps = $s_1$ + $2 s_2$ = $5 + 2 \\times 5 = 15$\n",
    "\n",
    "\n",
    "For all multigrid cycles $n$ ($n=7$ in the below example):\n",
    "\n",
    "* Number of prolongations  = (level_max - level_min)$n$ = $(3-1) \\times 7 = 14$\n",
    "\n",
    "* Number of restrictions   = (level_max - level_min)$n$ = $(3-1) \\times 7 = 14$\n",
    "\n",
    "* Number of smoother steps = ($s_1$ + 2$s_2$)$n$ = $(5 + 2 \\times 5) \\times 7 = 105$"
   ]
  },
  {
   "cell_type": "code",
   "execution_count": 17,
   "metadata": {},
   "outputs": [
    {
     "name": "stdout",
     "output_type": "stream",
     "text": [
      "Jabcobi needs 607 iterations to get a residual lower than 1e-6\n"
     ]
    }
   ],
   "source": [
    "## Compute iterations for Jacobi\n",
    "unknowns = np.zeros(geometry.data_size_per_level[storage.level_max])\n",
    "\n",
    "# Initialize residual\n",
    "residual = float('inf')\n",
    "iterations = 0\n",
    "\n",
    "while residual > 1e-6:\n",
    "    unknowns = jacobi_relaxation(A=stiffness, x=unknowns, b=rhs, num_it=1)\n",
    "    residual = compute_residual(stiffness, unknowns, rhs)\n",
    "    iterations += 1\n",
    "print(\"Jabcobi needs {} iterations to get a residual lower than 1e-6\".format(iterations))"
   ]
  },
  {
   "cell_type": "code",
   "execution_count": 18,
   "metadata": {},
   "outputs": [
    {
     "name": "stdout",
     "output_type": "stream",
     "text": [
      "V-cycle needs 7 cycles to get a residual lower than 1e-6\n"
     ]
    }
   ],
   "source": [
    "## Compute iterations for v-cycle\n",
    "unknowns = np.zeros(geometry.data_size_per_level[storage.level_max])\n",
    "\n",
    "# Initialize residual\n",
    "residual = float('inf')\n",
    "iterations = 0\n",
    "\n",
    "while residual > 1e-6:\n",
    "    unknowns = v_cycle(storage, level=storage.level_max, rhs=rhs, unknowns = unknowns)\n",
    "    residual = compute_residual(stiffness, unknowns, rhs)\n",
    "    iterations += 1\n",
    "print(\"V-cycle needs {} cycles to get a residual lower than 1e-6\".format(iterations))"
   ]
  },
  {
   "cell_type": "markdown",
   "metadata": {},
   "source": [
    "## Analyizing the time complexity"
   ]
  },
  {
   "cell_type": "code",
   "execution_count": 19,
   "metadata": {
    "scrolled": false
   },
   "outputs": [
    {
     "name": "stdout",
     "output_type": "stream",
     "text": [
      "Level 0 has \t4 vertices\n",
      "Level 1 has \t5 vertices\n",
      "Level 2 has \t16 vertices\n",
      "Level 3 has \t56 vertices\n",
      "Level 4 has \t208 vertices\n",
      "Level 5 has \t800 vertices\n",
      "Level 6 has \t3136 vertices\n",
      "\n",
      "Discretization level:  3\n",
      "Jacobi needs 607 iterations to get a residual lower than 1e-6\n",
      "V-cycle needs 7 cycles (Total Jacobi smoothing iterations = 105) to get a residual lower than 1e-6\n",
      "\n",
      "Discretization level:  4\n",
      "Jacobi needs 2306 iterations to get a residual lower than 1e-6\n",
      "V-cycle needs 14 cycles (Total Jacobi smoothing iterations = 210) to get a residual lower than 1e-6\n",
      "\n",
      "Discretization level:  5\n",
      "Jacobi needs 8717 iterations to get a residual lower than 1e-6\n",
      "V-cycle needs 36 cycles (Total Jacobi smoothing iterations = 540) to get a residual lower than 1e-6\n",
      "\n",
      "Discretization level:  6\n",
      "Jacobi needs 32820 iterations to get a residual lower than 1e-6\n",
      "V-cycle needs 152 cycles (Total Jacobi smoothing iterations = 2280) to get a residual lower than 1e-6\n"
     ]
    }
   ],
   "source": [
    "max_plot_levels = 6\n",
    "plot_start_level = 3\n",
    "geometry = Geometry(level=max_plot_levels)\n",
    "\n",
    "jtime = np.zeros([max_plot_levels - plot_start_level + 1])\n",
    "vtime = np.zeros([max_plot_levels - plot_start_level + 1])\n",
    "levellist = np.zeros_like(vtime)\n",
    "jit = np.zeros_like(jtime)\n",
    "vit = np.zeros_like(vtime)\n",
    "Nit = np.zeros_like(vtime)\n",
    "\n",
    "for it,i in enumerate(np.arange(plot_start_level, max_plot_levels + 1)):\n",
    "    eval_k = lambda x, y: x + y + 0.001\n",
    "    discretization = fem.Discretization(geometry, level=i, eval_k=eval_k)\n",
    "    stiffness = discretization.setup_stiffness()\n",
    "    rhs = discretization.setup_rhs()\n",
    "    Nit[it] = stiffness.shape[0]\n",
    "    \n",
    "    storage = MultigridStorage(discretization, level_min=1 , level_max=i, stiffness=stiffness)\n",
    "    \n",
    "    print(\"\\nDiscretization level: \", i)\n",
    "    levellist[it] = i\n",
    "    \n",
    "    ### Jacobi\n",
    "    unknowns = np.zeros(geometry.data_size_per_level[storage.level_max])\n",
    "    residual = float('inf')\n",
    "    iterations = 0\n",
    "    start = time.perf_counter()\n",
    "    while residual > 1e-6:\n",
    "        unknowns = jacobi_relaxation(A=stiffness, x=unknowns, b=rhs, num_it=1)\n",
    "        residual = compute_residual(stiffness, unknowns, rhs)\n",
    "        iterations += 1\n",
    "    end = time.perf_counter()\n",
    "    jtime[it] = end-start\n",
    "    jit[it] = iterations - 1\n",
    "    print(\"Jacobi needs {} iterations to get a residual lower than 1e-6\".format(iterations))\n",
    "\n",
    "    ### V-cycle\n",
    "    unknowns = np.zeros(geometry.data_size_per_level[storage.level_max])\n",
    "    residual = float('inf')\n",
    "    iterations = 0\n",
    "    start = time.perf_counter()\n",
    "    while residual > 1e-6:\n",
    "        unknowns = v_cycle(storage, level=storage.level_max, rhs=rhs, unknowns = unknowns)\n",
    "        residual = compute_residual(stiffness, unknowns, rhs)\n",
    "        iterations += 1\n",
    "    end = time.perf_counter()\n",
    "    vtime[it] = end-start\n",
    "    vit[it] = iterations - 1\n",
    "    print(\"V-cycle needs {} cycles (Total Jacobi smoothing iterations = {}) to get a residual lower than 1e-6\".\n",
    "          format(iterations, 15 * iterations))\n"
   ]
  },
  {
   "cell_type": "code",
   "execution_count": 20,
   "metadata": {},
   "outputs": [
    {
     "data": {
      "text/plain": [
       "Text(0.5, 1.0, 'Computing time vs. Number of unknowns (Linear scale)')"
      ]
     },
     "execution_count": 20,
     "metadata": {},
     "output_type": "execute_result"
    },
    {
     "data": {
      "image/png": "[encoded data removed]",
      "text/plain": [
       "<Figure size 432x288 with 1 Axes>"
      ]
     },
     "metadata": {
      "needs_background": "light"
     },
     "output_type": "display_data"
    }
   ],
   "source": [
    "plt.plot(Nit, vtime, label= \"V-cycle\")\n",
    "plt.plot(Nit, jtime, label= \"Jacobi\")\n",
    "plt.legend()\n",
    "plt.xlabel(\"Number of unknowns\")\n",
    "plt.ylabel(\"Time (sec)\")\n",
    "plt.title(\"Computing time vs. Number of unknowns (Linear scale)\")\n",
    "# plt.savefig('linTime.png', dpi=300)"
   ]
  },
  {
   "cell_type": "code",
   "execution_count": 21,
   "metadata": {},
   "outputs": [
    {
     "data": {
      "text/plain": [
       "Text(0.5, 1.0, 'Computing time vs. Number of unknowns (Log scale)')"
      ]
     },
     "execution_count": 21,
     "metadata": {},
     "output_type": "execute_result"
    },
    {
     "data": {
      "image/png": "[encoded data removed]",
      "text/plain": [
       "<Figure size 432x288 with 1 Axes>"
      ]
     },
     "metadata": {
      "needs_background": "light"
     },
     "output_type": "display_data"
    }
   ],
   "source": [
    "plt.plot(Nit, vtime, label= \"V-cycle\")\n",
    "plt.plot(Nit, jtime, label= \"Jacobi\")\n",
    "plt.yscale('log')\n",
    "plt.legend()\n",
    "plt.xlabel(\"Number of unknowns\")\n",
    "plt.ylabel(\"Time (sec)\")\n",
    "plt.title(\"Computing time vs. Number of unknowns (Log scale)\")\n",
    "# plt.savefig('logTime.png', dpi=300)"
   ]
  },
  {
   "cell_type": "code",
   "execution_count": 22,
   "metadata": {},
   "outputs": [
    {
     "data": {
      "text/plain": [
       "Text(0.5, 1.0, 'Number of total smoothing iterations vs. Number of unknowns (Linear scale)')"
      ]
     },
     "execution_count": 22,
     "metadata": {},
     "output_type": "execute_result"
    },
    {
     "data": {
      "image/png": "[encoded data removed]",
      "text/plain": [
       "<Figure size 432x288 with 1 Axes>"
      ]
     },
     "metadata": {
      "needs_background": "light"
     },
     "output_type": "display_data"
    }
   ],
   "source": [
    "# Plotting the actual number of Jacobi smoothing iterations done within all vcycles\n",
    "plt.plot(Nit, 15 * vit, label= \"V-cycle\")\n",
    "plt.plot(Nit, jit, label= \"Jacobi\")\n",
    "plt.legend()\n",
    "plt.xlabel(\"Number of unknowns\")\n",
    "plt.ylabel(\"Number of iterations\")\n",
    "plt.title(\"Number of total smoothing iterations vs. Number of unknowns (Linear scale)\")\n",
    "# plt.savefig('linIter.png', dpi=300)"
   ]
  },
  {
   "cell_type": "code",
   "execution_count": 23,
   "metadata": {},
   "outputs": [
    {
     "data": {
      "text/plain": [
       "Text(0.5, 1.0, 'Number of total smoothing iterations vs. Number of unknowns (Log scale)')"
      ]
     },
     "execution_count": 23,
     "metadata": {},
     "output_type": "execute_result"
    },
    {
     "data": {
      "image/png": "[encoded data removed]",
      "text/plain": [
       "<Figure size 432x288 with 1 Axes>"
      ]
     },
     "metadata": {
      "needs_background": "light"
     },
     "output_type": "display_data"
    }
   ],
   "source": [
    "# Plotting the actual number of Jacobi smoothing iterations done within all vcycles\n",
    "plt.plot(Nit, 15 * vit, label= \"V-cycle\")\n",
    "plt.plot(Nit, jit, label= \"Jacobi\")\n",
    "plt.yscale('log')\n",
    "plt.legend()\n",
    "plt.xlabel(\"Number of unknowns\")\n",
    "plt.ylabel(\"Number of iterations\")\n",
    "plt.title(\"Number of total smoothing iterations vs. Number of unknowns (Log scale)\")\n",
    "# plt.savefig('logIter.png', dpi=300)"
   ]
  },
  {
   "cell_type": "markdown",
   "metadata": {},
   "source": [
    "## Conclusion\n",
    "\n",
    "From the above plots it can be seen that there is a significant improvement in the Multigrid method with Vcycles compared to using Jacobi solver only. Also, the number of Vcycles in Multigrid method scales linearly with the number of unknowns "
   ]
  }
 ],
 "metadata": {
  "kernelspec": {
   "display_name": "Python 3",
   "language": "python",
   "name": "python3"
  },
  "language_info": {
   "codemirror_mode": {
    "name": "ipython",
    "version": 3
   },
   "file_extension": ".py",
   "mimetype": "text/x-python",
   "name": "python",
   "nbconvert_exporter": "python",
   "pygments_lexer": "ipython3",
   "version": "3.7.6"
  }
 },
 "nbformat": 4,
 "nbformat_minor": 4
}
